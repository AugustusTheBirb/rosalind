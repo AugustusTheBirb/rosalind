{
 "cells": [
  {
   "cell_type": "code",
   "execution_count": 52,
   "id": "d8150300",
   "metadata": {},
   "outputs": [],
   "source": [
    "import pandas as pd\n",
    "import numpy as np\n",
    "import matplotlib.pyplot as plt"
   ]
  },
  {
   "cell_type": "code",
   "execution_count": 53,
   "id": "53c8ce47",
   "metadata": {},
   "outputs": [],
   "source": [
    "def countCTAG(s):\n",
    "    d = {'A' : 0,'C' : 0,'G' : 0,'T' : 0}\n",
    "    for letter in s:\n",
    "        d[letter] = d[letter] + 1\n",
    "    return d.values()\n",
    "\n"
   ]
  },
  {
   "cell_type": "code",
   "execution_count": 54,
   "id": "b055c923",
   "metadata": {},
   "outputs": [],
   "source": [
    "def reverseComplement(s):\n",
    "    d = {'A' : 'T','C' : 'G','G' : 'C','T' : 'A'}\n",
    "    ans = ''\n",
    "    for i in range(len(s)):\n",
    "        ans += d[s[len(s)-i-1]]\n",
    "    return ans"
   ]
  },
  {
   "cell_type": "code",
   "execution_count": 55,
   "id": "9e7aa5cf",
   "metadata": {},
   "outputs": [],
   "source": [
    "def mendelian(k,m,n):\n",
    "    total = k + m + n\n",
    "    chanceOfaa = (m/total)*((m-1)/(total-1))*0.25\n",
    "    chanceOfaa += 2*0.5*(m/total)*((n)/(total-1))\n",
    "    chanceOfaa += (n/total)*((n-1)/(total-1))\n",
    "    return 1 - chanceOfaa"
   ]
  },
  {
   "cell_type": "code",
   "execution_count": 56,
   "id": "09f2779a",
   "metadata": {},
   "outputs": [],
   "source": [
    "def motifs(s,t):\n",
    "    last_idx = 0\n",
    "    answers = []\n",
    "    while True:\n",
    "        idx = s.find(t, last_idx)\n",
    "        if idx > -1:\n",
    "            last_idx = idx + 1\n",
    "            answers.append(idx + 1)\n",
    "        else:\n",
    "            return answers"
   ]
  },
  {
   "cell_type": "code",
   "execution_count": 61,
   "id": "c4ecb129",
   "metadata": {},
   "outputs": [],
   "source": [
    "def findPalindromes(s):\n",
    "    ans = []\n",
    "    for i in range(len(s)):\n",
    "        for j in range(4,13):\n",
    "            if i+j > len(s): break\n",
    "            substring = s[i:i+j]\n",
    "            if substring == reverseComplement(substring):\n",
    "                ans.append([i+1, j])\n",
    "    return ans"
   ]
  },
  {
   "cell_type": "code",
   "execution_count": 69,
   "id": "53116d91",
   "metadata": {},
   "outputs": [],
   "source": [
    "def GCContent(s):\n",
    "    return (s.count('G') + s.count('C'))/len(s)"
   ]
  },
  {
   "cell_type": "code",
   "execution_count": 83,
   "id": "85d5f8a8",
   "metadata": {},
   "outputs": [],
   "source": [
    "def hammingDistance(s1,s2):\n",
    "    ans = 0\n",
    "    for i in range(len(s1)):\n",
    "        if s1[i] != s2[i]: ans += 1\n",
    "    return ans"
   ]
  },
  {
   "cell_type": "code",
   "execution_count": 1,
   "id": "c4568c74",
   "metadata": {},
   "outputs": [],
   "source": [
    "def longestSharedSubstring(l):\n",
    "    l.sort(key=lambda x: len(x))\n",
    "\n",
    "    substringLength = 2\n",
    "    s = l[0]\n",
    "    solution = ''\n",
    "    for substringLength in range(2, len(s)):\n",
    "        validLength = True\n",
    "\n",
    "        for i in range(len(s)):\n",
    "            if i + substringLength > len(s):\n",
    "                validLength = False\n",
    "                break\n",
    "            substring = s[i:i+substringLength]\n",
    "            validString = True\n",
    "            for string in l:\n",
    "                if string.find(substring) == -1: \n",
    "                    validString = False\n",
    "                    break\n",
    "            if validString:\n",
    "                solution = substring\n",
    "                break\n",
    "        if not validLength:\n",
    "            return solution \n",
    "    "
   ]
  },
  {
   "cell_type": "code",
   "execution_count": null,
   "id": "e34abc33",
   "metadata": {},
   "outputs": [
    {
     "data": {
      "text/plain": [
       "462"
      ]
     },
     "execution_count": 84,
     "metadata": {},
     "output_type": "execute_result"
    }
   ],
   "source": [
    "def permutations(remaining, current):\n",
    "    if len(remaining) == 0:\n",
    "        print(current)\n",
    "        return current\n",
    "    for number in remaining:\n",
    "        permutations([x for x in remaining if x != number], current + [number])\n",
    "    "
   ]
  },
  {
   "cell_type": "code",
   "execution_count": null,
   "id": "e43c38cc",
   "metadata": {},
   "outputs": [
    {
     "ename": "NameError",
     "evalue": "name 'longestSubstring' is not defined",
     "output_type": "error",
     "traceback": [
      "\u001b[31m---------------------------------------------------------------------------\u001b[39m",
      "\u001b[31mNameError\u001b[39m                                 Traceback (most recent call last)",
      "\u001b[36mCell\u001b[39m\u001b[36m \u001b[39m\u001b[32mIn[2]\u001b[39m\u001b[32m, line 15\u001b[39m\n\u001b[32m     11\u001b[39m         s += line.strip()\n\u001b[32m     12\u001b[39m l.append(s)\n\u001b[32m---> \u001b[39m\u001b[32m15\u001b[39m \u001b[38;5;28mprint\u001b[39m(\u001b[43mlongestSubstring\u001b[49m(l))\n\u001b[32m     17\u001b[39m \u001b[38;5;66;03m# o.write(names[l.index(m)] + \"\\n\")\u001b[39;00m\n\u001b[32m     18\u001b[39m \u001b[38;5;66;03m# o.write(str(m))\u001b[39;00m\n",
      "\u001b[31mNameError\u001b[39m: name 'longestSubstring' is not defined"
     ]
    }
   ],
   "source": [
    "with open('inpt.txt') as f:\n",
    "    with open('outpt.txt', 'w') as o:\n",
    "        names = []\n",
    "        l = []\n",
    "        for i, line in enumerate(f.readlines()):\n",
    "            if line[0] == '>':\n",
    "                names.append(line.strip()[1:])\n",
    "                if i!= 0: l.append(s)\n",
    "                s = ''\n",
    "            else:\n",
    "                s += line.strip()\n",
    "        l.append(s)\n",
    "\n",
    "        \n",
    "        print(longestSharedSubstring(l))\n",
    "\n",
    "        # o.write(names[l.index(m)] + \"\\n\")\n",
    "        # o.write(str(m))\n"
   ]
  }
 ],
 "metadata": {
  "kernelspec": {
   "display_name": "Python 3",
   "language": "python",
   "name": "python3"
  },
  "language_info": {
   "codemirror_mode": {
    "name": "ipython",
    "version": 3
   },
   "file_extension": ".py",
   "mimetype": "text/x-python",
   "name": "python",
   "nbconvert_exporter": "python",
   "pygments_lexer": "ipython3",
   "version": "3.12.10"
  }
 },
 "nbformat": 4,
 "nbformat_minor": 5
}
